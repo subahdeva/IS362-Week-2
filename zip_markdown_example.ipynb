{
 "cells": [
  {
   "cell_type": "code",
   "execution_count": 49,
   "metadata": {},
   "outputs": [],
   "source": [
    "import markdown\n",
    "\n",
    "## create a list\n",
    "email_list = {'George Costanza': ['george.costanza@email.com', 'art.vandelay@email.com', 'georgie@email.com'],\n",
    "              'Cosmo Kramer': ['cosmo.kramer@email.com', 'penny.packer@email.com', 'drvannostrand@email.com'],\n",
    "              'Jerry Seinfeld': ['jerry.seinfeld@email.com', 'tim.watley@email.com', 'jseinfeld@email.com']\n",
    "             }\n",
    "## create a file named md and then iterate through each key/value \n",
    "## pair and extract/save to name variable and then iterate through the \n",
    "with open('emails.md', 'bw+') as f:\n",
    "    for name, email in email_list.items():\n",
    "        f.write('# {}\\n'.format(name).encode('utf-8'))\n",
    "        for email in emails:\n",
    "            f.write('* {}\\n'.format(email).encode('utf-8'))\n",
    "    f.seek(0)\n",
    "    markdown.markdownFromFile(input=f, output='emails.html')"
   ]
  },
  {
   "cell_type": "code",
   "execution_count": 24,
   "metadata": {},
   "outputs": [],
   "source": []
  },
  {
   "cell_type": "code",
   "execution_count": null,
   "metadata": {},
   "outputs": [],
   "source": []
  }
 ],
 "metadata": {
  "kernelspec": {
   "display_name": "Python 3",
   "language": "python",
   "name": "python3"
  },
  "language_info": {
   "codemirror_mode": {
    "name": "ipython",
    "version": 3
   },
   "file_extension": ".py",
   "mimetype": "text/x-python",
   "name": "python",
   "nbconvert_exporter": "python",
   "pygments_lexer": "ipython3",
   "version": "3.8.5"
  }
 },
 "nbformat": 4,
 "nbformat_minor": 4
}
